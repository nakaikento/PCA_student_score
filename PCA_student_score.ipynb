{
 "cells": [
  {
   "cell_type": "code",
   "execution_count": 1,
   "metadata": {},
   "outputs": [],
   "source": [
    "import numpy as np\n",
    "import pandas as pd\n",
    "import  matplotlib.pyplot as plt\n",
    "import seaborn as sns\n",
    "# 主成分分析のライブラリをインポート\n",
    "from sklearn.decomposition import PCA"
   ]
  },
  {
   "cell_type": "markdown",
   "metadata": {},
   "source": [
    "# 文系と理系が存在することを確かめられるか?"
   ]
  },
  {
   "cell_type": "markdown",
   "metadata": {},
   "source": [
    "## 各変数同士の相関係数をプロット"
   ]
  },
  {
   "cell_type": "code",
   "execution_count": 2,
   "metadata": {
    "scrolled": true
   },
   "outputs": [
    {
     "data": {
      "text/html": [
       "<div>\n",
       "<style scoped>\n",
       "    .dataframe tbody tr th:only-of-type {\n",
       "        vertical-align: middle;\n",
       "    }\n",
       "\n",
       "    .dataframe tbody tr th {\n",
       "        vertical-align: top;\n",
       "    }\n",
       "\n",
       "    .dataframe thead th {\n",
       "        text-align: right;\n",
       "    }\n",
       "</style>\n",
       "<table border=\"1\" class=\"dataframe\">\n",
       "  <thead>\n",
       "    <tr style=\"text-align: right;\">\n",
       "      <th></th>\n",
       "      <th>Kokugo</th>\n",
       "      <th>Shakai</th>\n",
       "      <th>Sugaku</th>\n",
       "      <th>Rika</th>\n",
       "    </tr>\n",
       "  </thead>\n",
       "  <tbody>\n",
       "    <tr>\n",
       "      <th>0</th>\n",
       "      <td>30.0</td>\n",
       "      <td>43.0</td>\n",
       "      <td>51.0</td>\n",
       "      <td>63.0</td>\n",
       "    </tr>\n",
       "    <tr>\n",
       "      <th>1</th>\n",
       "      <td>39.0</td>\n",
       "      <td>21.0</td>\n",
       "      <td>49.0</td>\n",
       "      <td>56.0</td>\n",
       "    </tr>\n",
       "    <tr>\n",
       "      <th>2</th>\n",
       "      <td>29.0</td>\n",
       "      <td>30.0</td>\n",
       "      <td>23.0</td>\n",
       "      <td>57.0</td>\n",
       "    </tr>\n",
       "    <tr>\n",
       "      <th>3</th>\n",
       "      <td>95.0</td>\n",
       "      <td>87.0</td>\n",
       "      <td>77.0</td>\n",
       "      <td>100.0</td>\n",
       "    </tr>\n",
       "    <tr>\n",
       "      <th>4</th>\n",
       "      <td>70.0</td>\n",
       "      <td>71.0</td>\n",
       "      <td>78.0</td>\n",
       "      <td>67.0</td>\n",
       "    </tr>\n",
       "  </tbody>\n",
       "</table>\n",
       "</div>"
      ],
      "text/plain": [
       "   Kokugo  Shakai  Sugaku   Rika\n",
       "0    30.0    43.0    51.0   63.0\n",
       "1    39.0    21.0    49.0   56.0\n",
       "2    29.0    30.0    23.0   57.0\n",
       "3    95.0    87.0    77.0  100.0\n",
       "4    70.0    71.0    78.0   67.0"
      ]
     },
     "execution_count": 2,
     "metadata": {},
     "output_type": "execute_result"
    }
   ],
   "source": [
    "# csvファイルからNumPy配列の作成\n",
    "score = np.loadtxt(\"exam_score.csv\", delimiter=\",\", skiprows=1)\n",
    "# DataFrameの作成\n",
    "df = pd.DataFrame(score, columns=['Kokugo','Shakai','Sugaku','Rika'])\n",
    "df.head()"
   ]
  },
  {
   "cell_type": "code",
   "execution_count": 3,
   "metadata": {},
   "outputs": [
    {
     "data": {
      "text/plain": [
       "<matplotlib.axes._subplots.AxesSubplot at 0x1a217b57f0>"
      ]
     },
     "execution_count": 3,
     "metadata": {},
     "output_type": "execute_result"
    },
    {
     "data": {
      "image/png": "[encoded data removed]",
      "text/plain": [
       "<Figure size 432x288 with 2 Axes>"
      ]
     },
     "metadata": {
      "needs_background": "light"
     },
     "output_type": "display_data"
    }
   ],
   "source": [
    "# 相関係数を計算\n",
    "correlation = df.corr()\n",
    "# seabornのヒートマップを使って綺麗に表示\n",
    "# annot: annotationの略。値を表示するかどうか\n",
    "# fmt: プロットのフォーマットを設定。'.2f'で小数点以下2桁まで\n",
    "sns.heatmap(correlation, annot=True, fmt='.2f')"
   ]
  },
  {
   "cell_type": "markdown",
   "metadata": {},
   "source": [
    "## 主成分分析\n",
    "\n",
    "主成分分析のコンセプトはデータの要約です｡今回の場合は、4次元(国語、社会、数学、理科)のデータを2次元に要約します。\n",
    "\n",
    "データを要約する過程で文系理系の軸が現れるかをみてみます。"
   ]
  },
  {
   "cell_type": "code",
   "execution_count": 4,
   "metadata": {
    "scrolled": false
   },
   "outputs": [
    {
     "data": {
      "text/html": [
       "<div>\n",
       "<style scoped>\n",
       "    .dataframe tbody tr th:only-of-type {\n",
       "        vertical-align: middle;\n",
       "    }\n",
       "\n",
       "    .dataframe tbody tr th {\n",
       "        vertical-align: top;\n",
       "    }\n",
       "\n",
       "    .dataframe thead th {\n",
       "        text-align: right;\n",
       "    }\n",
       "</style>\n",
       "<table border=\"1\" class=\"dataframe\">\n",
       "  <thead>\n",
       "    <tr style=\"text-align: right;\">\n",
       "      <th></th>\n",
       "      <th>Kokugo</th>\n",
       "      <th>Shakai</th>\n",
       "      <th>Sugaku</th>\n",
       "      <th>Rika</th>\n",
       "      <th>bunkei_rikei</th>\n",
       "    </tr>\n",
       "  </thead>\n",
       "  <tbody>\n",
       "    <tr>\n",
       "      <th>0</th>\n",
       "      <td>30.0</td>\n",
       "      <td>43.0</td>\n",
       "      <td>51.0</td>\n",
       "      <td>63.0</td>\n",
       "      <td>S</td>\n",
       "    </tr>\n",
       "    <tr>\n",
       "      <th>1</th>\n",
       "      <td>39.0</td>\n",
       "      <td>21.0</td>\n",
       "      <td>49.0</td>\n",
       "      <td>56.0</td>\n",
       "      <td>S</td>\n",
       "    </tr>\n",
       "    <tr>\n",
       "      <th>2</th>\n",
       "      <td>29.0</td>\n",
       "      <td>30.0</td>\n",
       "      <td>23.0</td>\n",
       "      <td>57.0</td>\n",
       "      <td>S</td>\n",
       "    </tr>\n",
       "    <tr>\n",
       "      <th>3</th>\n",
       "      <td>95.0</td>\n",
       "      <td>87.0</td>\n",
       "      <td>77.0</td>\n",
       "      <td>100.0</td>\n",
       "      <td>L</td>\n",
       "    </tr>\n",
       "    <tr>\n",
       "      <th>4</th>\n",
       "      <td>70.0</td>\n",
       "      <td>71.0</td>\n",
       "      <td>78.0</td>\n",
       "      <td>67.0</td>\n",
       "      <td>S</td>\n",
       "    </tr>\n",
       "  </tbody>\n",
       "</table>\n",
       "</div>"
      ],
      "text/plain": [
       "   Kokugo  Shakai  Sugaku   Rika bunkei_rikei\n",
       "0    30.0    43.0    51.0   63.0            S\n",
       "1    39.0    21.0    49.0   56.0            S\n",
       "2    29.0    30.0    23.0   57.0            S\n",
       "3    95.0    87.0    77.0  100.0            L\n",
       "4    70.0    71.0    78.0   67.0            S"
      ]
     },
     "execution_count": 4,
     "metadata": {},
     "output_type": "execute_result"
    }
   ],
   "source": [
    "# 文系=L / 理系=S\n",
    "df['bunkei_rikei'] = np.where(df['Kokugo'] + df['Shakai'] - df['Sugaku'] - df['Rika'] >=0, 'L', 'S')\n",
    "df.head()"
   ]
  },
  {
   "cell_type": "code",
   "execution_count": 5,
   "metadata": {},
   "outputs": [
    {
     "data": {
      "text/plain": [
       "S    90\n",
       "L    76\n",
       "Name: bunkei_rikei, dtype: int64"
      ]
     },
     "execution_count": 5,
     "metadata": {},
     "output_type": "execute_result"
    }
   ],
   "source": [
    "df['bunkei_rikei'].value_counts()"
   ]
  },
  {
   "cell_type": "code",
   "execution_count": 6,
   "metadata": {
    "scrolled": true
   },
   "outputs": [
    {
     "data": {
      "text/plain": [
       "Text(0, 0.5, 'PC 1')"
      ]
     },
     "execution_count": 6,
     "metadata": {},
     "output_type": "execute_result"
    },
    {
     "data": {
      "image/png": "[encoded data removed]",
      "text/plain": [
       "<Figure size 432x432 with 1 Axes>"
      ]
     },
     "metadata": {
      "needs_background": "light"
     },
     "output_type": "display_data"
    }
   ],
   "source": [
    "X = score\n",
    "# 主成分を2つまで取得\n",
    "pca = PCA(n_components=2) \n",
    "X_pca = pca.fit_transform(X)\n",
    "\n",
    "# 特徴抽出による可視化\n",
    "# PC0(第1主成分)とPC1(第2主成分)について散布図を表示\n",
    "plt.figure(figsize=(6, 6))\n",
    "# 文系と理系で色と点を変えてプロット\n",
    "for target, marker, color in zip('LS', 'ox', 'rb'):\n",
    "    plt.scatter(X_pca[df['bunkei_rikei']==target, 0], X_pca[df['bunkei_rikei']==target, 1], marker=marker, color=color)\n",
    "\n",
    "plt.xlim([-100, 100])\n",
    "plt.ylim([-100, 100])\n",
    "plt.title('score')\n",
    "plt.xlabel('PC 0')\n",
    "plt.ylabel('PC 1')"
   ]
  },
  {
   "cell_type": "markdown",
   "metadata": {},
   "source": [
    " プロットを見ると、第2主成分 (PC1) が文系/理系の軸のような気がします。"
   ]
  },
  {
   "cell_type": "markdown",
   "metadata": {},
   "source": [
    "##### 寄与率\n",
    "　寄与率とは､ひとつの主成分がデータ全体の情報をどれだけの割合拾えているかを表す指標です｡主成分分析においては､この固有値が各主成分の持つ情報量を表す指標として利用できます｡定義より､寄与率は0~1の値を取り､その総和は1になります｡寄与率が高ければ高いほど､その主成分はデータを効率よく要約する良い主成分であるといえます｡"
   ]
  },
  {
   "cell_type": "code",
   "execution_count": 7,
   "metadata": {
    "scrolled": true
   },
   "outputs": [
    {
     "name": "stdout",
     "output_type": "stream",
     "text": [
      "[0.83141975 0.07912514]\n"
     ]
    }
   ],
   "source": [
    "# 寄与率を出力\n",
    "# 各主成分の寄与率がarrayの形式で入っている\n",
    "# [第1主成分の寄与率 第2主成分の寄与率]\n",
    "print(pca.explained_variance_ratio_)"
   ]
  },
  {
   "cell_type": "markdown",
   "metadata": {},
   "source": [
    "　第1主成分が80%以上の説明力を持っています。それに比べて、僕が文系/理系のシグナルと睨んだ第2主成分は約8%とかなり微弱ですね。"
   ]
  },
  {
   "attachments": {},
   "cell_type": "markdown",
   "metadata": {},
   "source": [
    "##### 因子負荷量\n",
    "\n",
    "　因子負荷量（主成分負荷量）とは､主成分がもとの特徴量をどのように合成して作られたものなのかを表す指標です｡それぞれの主成分に対して､もとの各特徴量との相関係数にあたる数値が割り当てられており､-1~+1の値を取ります｡因子負荷量を参照することで､導かれた主成分の意味付けを行うことができます｡ひとつの主成分が､どのような特徴量と相関が強いのか（軸が同じ向きや逆の向きになっているのか）､あるいはどのような特徴量とは相関がないのか（軸が直行しているかどうか）に着目することで､主成分の表す意味が浮かび上がってきます｡\n",
    " \n",
    "　数式的には､主成分に含まれる各特徴量の係数 $h_j$に､その主成分の固有値 $l_i$の平方根 $\\sqrt{l_i}$を掛け算して表現されます｡重要なのは､  \n",
    "$h_j$を利用して定義されていることから､もともとの特徴量との相関が考慮されていることが確認できることです｡"
   ]
  },
  {
   "cell_type": "code",
   "execution_count": 8,
   "metadata": {},
   "outputs": [
    {
     "data": {
      "text/plain": [
       "array([[ 0.47084973,  0.48937011,  0.54982601,  0.48632169],\n",
       "       [-0.77353839, -0.15002283,  0.54851909,  0.27974687]])"
      ]
     },
     "execution_count": 8,
     "metadata": {},
     "output_type": "execute_result"
    }
   ],
   "source": [
    "# 主成分の係数h_jを出力(それぞれ、国語、社会、数学、理科の係数です)\n",
    "pca.components_"
   ]
  },
  {
   "cell_type": "code",
   "execution_count": 9,
   "metadata": {},
   "outputs": [
    {
     "data": {
      "text/plain": [
       "array([40.60299264, 12.52579007])"
      ]
     },
     "execution_count": 9,
     "metadata": {},
     "output_type": "execute_result"
    }
   ],
   "source": [
    "# 固有値lのルートを取る\n",
    "np.sqrt(pca.explained_variance_)"
   ]
  },
  {
   "cell_type": "code",
   "execution_count": 10,
   "metadata": {},
   "outputs": [
    {
     "data": {
      "text/plain": [
       "array([[19.11790816, 19.86989087, 22.32458143, 19.74611605],\n",
       "       [-9.68917951, -1.87915453,  6.87063499,  3.50405057]])"
      ]
     },
     "execution_count": 10,
     "metadata": {},
     "output_type": "execute_result"
    }
   ],
   "source": [
    "# 因子負荷量を出力\n",
    "# ['Kokugo, 'Shakai, 'Sugaku', 'Rika']\n",
    "pca.components_ * np.sqrt(pca.explained_variance_)[:, np.newaxis]"
   ]
  },
  {
   "cell_type": "markdown",
   "metadata": {},
   "source": [
    "##### この結果を解釈してみましょう。\n",
    " \n",
    "- 第1主成分\n",
    "\n",
    " 第1主成分は\n",
    " ```\n",
    " [Kokugo, 'Shakai, 'Sugaku', 'Rika'] \n",
    " \n",
    " =  [19.11790816, 19.86989087, 22.32458143, 19.74611605]\n",
    " ```\n",
    " となっており、教科間でほとんど差がありませんね。これはみなさんが指摘してくれた通り、生徒の**「地頭の良さ」**を表すものだと解釈してしまってよいと思います。やはり地頭の良さは数学に出るようですね。\n",
    " \n",
    " \n",
    " - 第2主成分\n",
    " \n",
    " 第2主成分は\n",
    " ```\n",
    " [Kokugo, 'Shakai, 'Sugaku', 'Rika'] \n",
    " \n",
    " =  [-9.68917951, -1.87915453,  6.87063499,  3.50405057]\n",
    " ```\n",
    " となっており、国語・社会ではマイナスの値が、数学・理科ではプラスの値が出ています。特に絶対値に注目すると、マイナスは国語が、プラスは数学の値が大きいです。この第2主成分は **「理系らしさ」**を数値化していると言って良いのではないでしょうか?\n",
    "\n",
    "\n",
    " - 結論\n",
    " \n",
    "寄与率を見ると、第1主成分が支配的で80%以上を占めています。ですから、みなさんの主張の通り、「文系/理系」というのは\n",
    " \n",
    ">　ほとんど無きに等しい (定量的には地頭の良さの1/10程度)\n",
    "\n",
    "　といえます。しかし、微弱なシグナルだが主成分分析をもってすれば確かに\n",
    " \n",
    ">「理系と文系が存在すること」を証明することができる\n",
    "               \n",
    "  　ようです。おそらくこの基準にしたがって分類器を作成することも可能でしょう。"
   ]
  },
  {
   "cell_type": "code",
   "execution_count": 11,
   "metadata": {},
   "outputs": [
    {
     "data": {
      "text/plain": [
       "Text(0, 0.5, 'Literature/Science')"
      ]
     },
     "execution_count": 11,
     "metadata": {},
     "output_type": "execute_result"
    },
    {
     "data": {
      "image/png": "[encoded data removed]",
      "text/plain": [
       "<Figure size 432x432 with 1 Axes>"
      ]
     },
     "metadata": {
      "needs_background": "light"
     },
     "output_type": "display_data"
    }
   ],
   "source": [
    "X = score\n",
    "# 主成分を2つまで取得\n",
    "pca = PCA(n_components=2) \n",
    "X_pca = pca.fit_transform(X)\n",
    "\n",
    "# 特徴抽出による可視化\n",
    "# PC0(第1主成分)とPC1(第2主成分)について散布図を表示\n",
    "plt.figure(figsize=(6, 6))\n",
    "for target, marker, color in zip('LS', 'ox', 'rb'):\n",
    "    plt.scatter(X_pca[df['bunkei_rikei']==target, 0], X_pca[df['bunkei_rikei']==target, 1], marker=marker, color=color)\n",
    "\n",
    "plt.xlim([-100, 100])\n",
    "plt.ylim([-100, 100])\n",
    "plt.title('score')\n",
    "plt.xlabel('IQ')\n",
    "plt.ylabel('Literature/Science')"
   ]
  }
 ],
 "metadata": {
  "hide_input": false,
  "kernelspec": {
   "display_name": "Python 3",
   "language": "python",
   "name": "python3"
  },
  "language_info": {
   "codemirror_mode": {
    "name": "ipython",
    "version": 3
   },
   "file_extension": ".py",
   "mimetype": "text/x-python",
   "name": "python",
   "nbconvert_exporter": "python",
   "pygments_lexer": "ipython3",
   "version": "3.6.8"
  },
  "toc": {
   "base_numbering": 1,
   "nav_menu": {},
   "number_sections": true,
   "sideBar": true,
   "skip_h1_title": false,
   "title_cell": "Table of Contents",
   "title_sidebar": "Contents",
   "toc_cell": false,
   "toc_position": {},
   "toc_section_display": true,
   "toc_window_display": false
  }
 },
 "nbformat": 4,
 "nbformat_minor": 2
}
